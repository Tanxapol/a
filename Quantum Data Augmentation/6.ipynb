{
 "cells": [
  {
   "cell_type": "code",
   "execution_count": 2,
   "id": "b80cf3d6",
   "metadata": {},
   "outputs": [
    {
     "name": "stdout",
     "output_type": "stream",
     "text": [
      "   sepal length  sepal width  petal length  petal width  \\\n",
      "0           5.6         4.12          1.00     0.466667   \n",
      "1           5.7         3.14          1.48     0.466667   \n",
      "2           4.4         2.58          1.48     0.266667   \n",
      "3           4.4         2.58          1.48     0.266667   \n",
      "4           4.4         2.58          1.48     0.266667   \n",
      "\n",
      "                      label  \n",
      "0  Generated (16-qubit VQC)  \n",
      "1  Generated (16-qubit VQC)  \n",
      "2  Generated (16-qubit VQC)  \n",
      "3  Generated (16-qubit VQC)  \n",
      "4  Generated (16-qubit VQC)  \n"
     ]
    }
   ],
   "source": [
    "import numpy as np\n",
    "import pandas as pd\n",
    "from qiskit import QuantumCircuit, transpile\n",
    "from qiskit_aer import Aer\n",
    "from sklearn.datasets import load_iris\n",
    "from sklearn.preprocessing import MinMaxScaler\n",
    "\n",
    "# === เตรียมข้อมูล Iris ===\n",
    "X, y = load_iris(return_X_y=True)\n",
    "X = X[y == 0][:50]  # ใช้เฉพาะ class Setosa\n",
    "scaler = MinMaxScaler()\n",
    "X_scaled = scaler.fit_transform(X)\n",
    "\n",
    "# === VQC: 16 qubits → 4 features (4 bits/feature) ===\n",
    "n_qubits = 16\n",
    "params = np.random.uniform(0, 2 * np.pi, size=n_qubits)\n",
    "\n",
    "qc = QuantumCircuit(n_qubits)\n",
    "for i in range(n_qubits):\n",
    "    qc.ry(params[i], i)\n",
    "for i in range(n_qubits - 1):\n",
    "    qc.cx(i, i + 1)\n",
    "\n",
    "qc.measure_all()\n",
    "\n",
    "# === Run circuit ===\n",
    "backend = Aer.get_backend(\"qasm_simulator\")\n",
    "shots = 2048\n",
    "tqc = transpile(qc, backend)\n",
    "job = backend.run(tqc, shots=shots)\n",
    "counts = job.result().get_counts()\n",
    "\n",
    "# === Decode: 4 bits per feature → 4 features ===\n",
    "def bits_to_float(bits):\n",
    "    return int(bits, 2) / 15.0  # 0–15 mapped to 0.0–1.0\n",
    "\n",
    "def bitstring_to_features(bs):\n",
    "    bs = bs[::-1]  # Qiskit returns reversed bitstring\n",
    "    return [bits_to_float(bs[i:i+4]) for i in range(0, 16, 4)]\n",
    "\n",
    "features = []\n",
    "for bs, freq in counts.items():\n",
    "    decoded = bitstring_to_features(bs)\n",
    "    features.extend([decoded] * freq)\n",
    "\n",
    "features = np.array(features)\n",
    "\n",
    "# === กลับไปเป็นข้อมูล Iris จริง ===\n",
    "generated = scaler.inverse_transform(features)\n",
    "df = pd.DataFrame(generated, columns=[\"sepal length\", \"sepal width\", \"petal length\", \"petal width\"])\n",
    "df[\"label\"] = \"Generated (16-qubit VQC)\"\n",
    "print(df.head())\n",
    "\n",
    "# === save ===\n",
    "df.to_csv(\"6_generated_iris_16qubit.csv\", index=False)\n"
   ]
  }
 ],
 "metadata": {
  "kernelspec": {
   "display_name": "dev",
   "language": "python",
   "name": "python3"
  },
  "language_info": {
   "codemirror_mode": {
    "name": "ipython",
    "version": 3
   },
   "file_extension": ".py",
   "mimetype": "text/x-python",
   "name": "python",
   "nbconvert_exporter": "python",
   "pygments_lexer": "ipython3",
   "version": "3.9.23"
  }
 },
 "nbformat": 4,
 "nbformat_minor": 5
}
